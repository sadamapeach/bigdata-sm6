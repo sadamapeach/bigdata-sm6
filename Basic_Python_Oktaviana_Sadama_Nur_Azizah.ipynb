{
  "nbformat": 4,
  "nbformat_minor": 0,
  "metadata": {
    "colab": {
      "provenance": []
    },
    "kernelspec": {
      "name": "python3",
      "display_name": "Python 3"
    },
    "language_info": {
      "name": "python"
    }
  },
  "cells": [
    {
      "cell_type": "code",
      "execution_count": 230,
      "metadata": {
        "id": "eXoURdEJ_G5u"
      },
      "outputs": [],
      "source": [
        "# Tugas 1 - Basic Python\n",
        "# Nama  : Oktaviana Sadama Nur Azizah\n",
        "# NIM   : 24060121130060\n",
        "# Kelas : Big Data A"
      ]
    },
    {
      "cell_type": "code",
      "source": [
        "# Mencari tau apa itu 'len'\n",
        "help(len)\n",
        "len?"
      ],
      "metadata": {
        "colab": {
          "base_uri": "https://localhost:8080/"
        },
        "id": "nX4Ry6nf_Xcn",
        "outputId": "6ab7b429-c0f6-46a6-e0ba-ff8a6043bb96"
      },
      "execution_count": 231,
      "outputs": [
        {
          "output_type": "stream",
          "name": "stdout",
          "text": [
            "Help on built-in function len in module builtins:\n",
            "\n",
            "len(obj, /)\n",
            "    Return the number of items in a container.\n",
            "\n"
          ]
        }
      ]
    },
    {
      "cell_type": "code",
      "source": [
        "# Membuat sebuah list L\n",
        "L = [1, 2, 3]\n",
        "L?\n",
        "\n",
        "# Mencetak list L\n",
        "print(L)"
      ],
      "metadata": {
        "colab": {
          "base_uri": "https://localhost:8080/"
        },
        "id": "cl7566ey_9Yc",
        "outputId": "3af1e087-b22d-4fde-9450-af475dbd1f57"
      },
      "execution_count": 232,
      "outputs": [
        {
          "output_type": "stream",
          "name": "stdout",
          "text": [
            "[1, 2, 3]\n"
          ]
        }
      ]
    },
    {
      "cell_type": "code",
      "source": [
        "# Membuat variabel dengan tipe data berbeda\n",
        "x1 = 4         # integer\n",
        "x2 = \"empat\"   # string\n",
        "\n",
        "# Mencetak nilai x1 dan x2\n",
        "print(x1)\n",
        "print(x2)"
      ],
      "metadata": {
        "colab": {
          "base_uri": "https://localhost:8080/"
        },
        "id": "OXMtulwjAT3K",
        "outputId": "d39081ce-2056-4088-8784-88ff8f23cdbd"
      },
      "execution_count": 233,
      "outputs": [
        {
          "output_type": "stream",
          "name": "stdout",
          "text": [
            "4\n",
            "empat\n"
          ]
        }
      ]
    },
    {
      "cell_type": "code",
      "source": [
        "# Numpy\n",
        "import numpy\n",
        "import numpy as np\n",
        "\n",
        "# Mencetak version numpy\n",
        "numpy.__version__"
      ],
      "metadata": {
        "colab": {
          "base_uri": "https://localhost:8080/",
          "height": 35
        },
        "id": "kYfJJp2fAyuI",
        "outputId": "a289f94a-a6d1-4633-a54f-3c511c88c332"
      },
      "execution_count": 234,
      "outputs": [
        {
          "output_type": "execute_result",
          "data": {
            "text/plain": [
              "'1.25.2'"
            ],
            "application/vnd.google.colaboratory.intrinsic+json": {
              "type": "string"
            }
          },
          "metadata": {},
          "execution_count": 234
        }
      ]
    },
    {
      "cell_type": "code",
      "source": [
        "# Membuat list L dengan range 10\n",
        "L = list(range(10))\n",
        "print(L)"
      ],
      "metadata": {
        "colab": {
          "base_uri": "https://localhost:8080/"
        },
        "id": "FheYyYtJBEWG",
        "outputId": "a06465e0-e747-4973-d416-1ba891442b20"
      },
      "execution_count": 235,
      "outputs": [
        {
          "output_type": "stream",
          "name": "stdout",
          "text": [
            "[0, 1, 2, 3, 4, 5, 6, 7, 8, 9]\n"
          ]
        }
      ]
    },
    {
      "cell_type": "code",
      "source": [
        "# Mengecek tipe data untuk list L dengan index ke-0\n",
        "type(L[0])"
      ],
      "metadata": {
        "colab": {
          "base_uri": "https://localhost:8080/"
        },
        "id": "LGo1HbMqBTzI",
        "outputId": "a4e49980-3921-47b2-a36e-6a7affeee04d"
      },
      "execution_count": 236,
      "outputs": [
        {
          "output_type": "execute_result",
          "data": {
            "text/plain": [
              "int"
            ]
          },
          "metadata": {},
          "execution_count": 236
        }
      ]
    },
    {
      "cell_type": "code",
      "source": [
        "# Menampilkan isi atau nilai dari suatu index dalam list L\n",
        "print(L[0])\n",
        "print(L[1])\n",
        "print(L[5])"
      ],
      "metadata": {
        "colab": {
          "base_uri": "https://localhost:8080/"
        },
        "id": "cvnATk4GB_or",
        "outputId": "f0d50763-d959-4355-d081-e287edba18bb"
      },
      "execution_count": 237,
      "outputs": [
        {
          "output_type": "stream",
          "name": "stdout",
          "text": [
            "0\n",
            "1\n",
            "5\n"
          ]
        }
      ]
    },
    {
      "cell_type": "code",
      "source": [
        "# Mengubah tipe data dalam list\n",
        "L2 = [str(c) for c in L]\n",
        "print(L2)\n",
        "\n",
        "# Mencetak tipe data list L2 dengan index ke-0\n",
        "type(L2[0])"
      ],
      "metadata": {
        "colab": {
          "base_uri": "https://localhost:8080/"
        },
        "id": "_Aeftwg_CI5-",
        "outputId": "63de8fea-419a-4f71-9054-662715e946fb"
      },
      "execution_count": 238,
      "outputs": [
        {
          "output_type": "stream",
          "name": "stdout",
          "text": [
            "['0', '1', '2', '3', '4', '5', '6', '7', '8', '9']\n"
          ]
        },
        {
          "output_type": "execute_result",
          "data": {
            "text/plain": [
              "str"
            ]
          },
          "metadata": {},
          "execution_count": 238
        }
      ]
    },
    {
      "cell_type": "code",
      "source": [
        "# Membuat sebuah list yang tipe datanya berbeda-beda\n",
        "L3 = [True, \"2\", 3.0, 4]\n",
        "[type(item) for item in L3]"
      ],
      "metadata": {
        "colab": {
          "base_uri": "https://localhost:8080/"
        },
        "id": "dtfJZe6gC22k",
        "outputId": "e4a08094-f0cc-4435-b66a-8f764c842e00"
      },
      "execution_count": 239,
      "outputs": [
        {
          "output_type": "execute_result",
          "data": {
            "text/plain": [
              "[bool, str, float, int]"
            ]
          },
          "metadata": {},
          "execution_count": 239
        }
      ]
    },
    {
      "cell_type": "code",
      "source": [
        "# Membuat array dari numpy\n",
        "np.array([1, 4, 2, 5, 3])                 # membuat array dari list\n",
        "np.array([1, 2, 3, 4], dtype='float32')   # menentukan tipe data"
      ],
      "metadata": {
        "colab": {
          "base_uri": "https://localhost:8080/"
        },
        "id": "Ef4WsQz4Dah6",
        "outputId": "f29d8839-2c9b-4279-9590-8a58b8c7b189"
      },
      "execution_count": 240,
      "outputs": [
        {
          "output_type": "execute_result",
          "data": {
            "text/plain": [
              "array([1., 2., 3., 4.], dtype=float32)"
            ]
          },
          "metadata": {},
          "execution_count": 240
        }
      ]
    },
    {
      "cell_type": "code",
      "source": [
        "# Generate matriks menggunakan numpy secara random\n",
        "import numpy as np\n",
        "\n",
        "np.random.seed(0)\n",
        "x1 = np.random.randint(10, size=6)          # matriks satu dimensi\n",
        "x2 = np.random.randint(10, size=(3, 4))     # matriks dua dimensi\n",
        "x3 = np.random.randint(10, size=(3, 4, 5))  # matriks tiga dimensi\n",
        "\n",
        "# Mencetak matriks x1, x2, dan x3\n",
        "print(\"Matriks x1:\")\n",
        "print(x1)\n",
        "print()\n",
        "\n",
        "print(\"Matriks x2:\")\n",
        "print(x2)\n",
        "print()\n",
        "\n",
        "print(\"Matriks x3:\")\n",
        "print(x3)\n",
        "\n",
        "# Keterangan\n",
        "# randint artinya merandom 10 angka"
      ],
      "metadata": {
        "colab": {
          "base_uri": "https://localhost:8080/"
        },
        "id": "l0mdjUMHEHuq",
        "outputId": "dc3095dd-c16d-4d12-d407-1f40b39d8b95"
      },
      "execution_count": 241,
      "outputs": [
        {
          "output_type": "stream",
          "name": "stdout",
          "text": [
            "Matriks x1:\n",
            "[5 0 3 3 7 9]\n",
            "\n",
            "Matriks x2:\n",
            "[[3 5 2 4]\n",
            " [7 6 8 8]\n",
            " [1 6 7 7]]\n",
            "\n",
            "Matriks x3:\n",
            "[[[8 1 5 9 8]\n",
            "  [9 4 3 0 3]\n",
            "  [5 0 2 3 8]\n",
            "  [1 3 3 3 7]]\n",
            "\n",
            " [[0 1 9 9 0]\n",
            "  [4 7 3 2 7]\n",
            "  [2 0 0 4 5]\n",
            "  [5 6 8 4 1]]\n",
            "\n",
            " [[4 9 8 1 1]\n",
            "  [7 9 9 3 6]\n",
            "  [7 2 0 3 5]\n",
            "  [9 4 4 6 4]]]\n"
          ]
        }
      ]
    },
    {
      "cell_type": "code",
      "source": [
        "# Mengecek dimensi matriks 3 dimensi yang sudah dibuat\n",
        "print(\"x3 ndim\\t:\", x3.ndim)\n",
        "print(\"x3 shape:\", x3.shape)\n",
        "print(\"x3 size\\t:\", x3.size)\n",
        "\n",
        "print(x3, \"\\n\")\n",
        "\n",
        "print(\"dtype\\t:\", x3.dtype)"
      ],
      "metadata": {
        "colab": {
          "base_uri": "https://localhost:8080/"
        },
        "id": "n9OF1br3GHrF",
        "outputId": "82d4e7ba-65b4-4a25-aae2-525e0df69c9d"
      },
      "execution_count": 242,
      "outputs": [
        {
          "output_type": "stream",
          "name": "stdout",
          "text": [
            "x3 ndim\t: 3\n",
            "x3 shape: (3, 4, 5)\n",
            "x3 size\t: 60\n",
            "[[[8 1 5 9 8]\n",
            "  [9 4 3 0 3]\n",
            "  [5 0 2 3 8]\n",
            "  [1 3 3 3 7]]\n",
            "\n",
            " [[0 1 9 9 0]\n",
            "  [4 7 3 2 7]\n",
            "  [2 0 0 4 5]\n",
            "  [5 6 8 4 1]]\n",
            "\n",
            " [[4 9 8 1 1]\n",
            "  [7 9 9 3 6]\n",
            "  [7 2 0 3 5]\n",
            "  [9 4 4 6 4]]] \n",
            "\n",
            "dtype\t: int64\n"
          ]
        }
      ]
    },
    {
      "cell_type": "code",
      "source": [
        "print(\"Matriks x1\")\n",
        "print(x1)\n",
        "# Mencetak nilai indeks ke-0 dari matriks x1\n",
        "print(\"Indeks-0 dari matriks x1\")\n",
        "print(x1[0], \"\\n\")\n",
        "\n",
        "print(\"Matriks x3\")\n",
        "print(x3, \"\\n\")\n",
        "# Mencetak nilai blok ke-0 dari matriks x3\n",
        "print(\"Blok ke-0 dari matriks x3\")\n",
        "print(x3[0], \"\\n\")\n",
        "\n",
        "# Mencetak nilai indeks ke-0, baris ke-0 dari matriks x3\n",
        "print(\"Blok ke-0, baris ke-0 dari matriks x3\")\n",
        "print(x3[0,0])"
      ],
      "metadata": {
        "colab": {
          "base_uri": "https://localhost:8080/"
        },
        "id": "7mTBQlh2HnBm",
        "outputId": "12d56ca6-6ad9-403b-ec20-102684994322"
      },
      "execution_count": 243,
      "outputs": [
        {
          "output_type": "stream",
          "name": "stdout",
          "text": [
            "Matriks x1\n",
            "[5 0 3 3 7 9]\n",
            "Indeks-0 dari matriks x1\n",
            "5 \n",
            "\n",
            "Matriks x3\n",
            "[[[8 1 5 9 8]\n",
            "  [9 4 3 0 3]\n",
            "  [5 0 2 3 8]\n",
            "  [1 3 3 3 7]]\n",
            "\n",
            " [[0 1 9 9 0]\n",
            "  [4 7 3 2 7]\n",
            "  [2 0 0 4 5]\n",
            "  [5 6 8 4 1]]\n",
            "\n",
            " [[4 9 8 1 1]\n",
            "  [7 9 9 3 6]\n",
            "  [7 2 0 3 5]\n",
            "  [9 4 4 6 4]]] \n",
            "\n",
            "Blok ke-0 dari matriks x3\n",
            "[[8 1 5 9 8]\n",
            " [9 4 3 0 3]\n",
            " [5 0 2 3 8]\n",
            " [1 3 3 3 7]] \n",
            "\n",
            "Blok ke-0, baris ke-0 dari matriks x3\n",
            "[8 1 5 9 8]\n"
          ]
        }
      ]
    },
    {
      "cell_type": "code",
      "source": [
        "# Slicing atau memecah array satu dimensi\n",
        "x = np.arange(10)\n",
        "print(x, \"\\n\")\n",
        "\n",
        "print(x[:5])    # mencetak array dari awal hingga sebelum elemen ke-5\n",
        "print(x[5:])    # mencetak array dari elemen ke-5 hingga akhir\n",
        "print(x[4:7])   # mencetak array dari elemen ke-4 hingga sebelum elemen ke-7\n",
        "print(x[::2])   # mencetak semua elemen dari awal lompat 2\n",
        "print(x[::-1])  # mencetak semua elemen dari belakang"
      ],
      "metadata": {
        "colab": {
          "base_uri": "https://localhost:8080/"
        },
        "id": "qVFV3NNZI2pZ",
        "outputId": "084bf9c2-b7a0-40fb-c9e7-82e35ca15b3b"
      },
      "execution_count": 244,
      "outputs": [
        {
          "output_type": "stream",
          "name": "stdout",
          "text": [
            "[0 1 2 3 4 5 6 7 8 9] \n",
            "\n",
            "[0 1 2 3 4]\n",
            "[5 6 7 8 9]\n",
            "[4 5 6]\n",
            "[0 2 4 6 8]\n",
            "[9 8 7 6 5 4 3 2 1 0]\n"
          ]
        }
      ]
    },
    {
      "cell_type": "code",
      "source": [
        "# Slicing atau memecah array multi dimensi\n",
        "print(\"Matriks x2\")\n",
        "print(x2, \"\\n\")\n",
        "\n",
        "print(\"Pemecahan 1\")\n",
        "print(x2[:2, :3], \"\\n\")   # mencetak 2 baris awal, 3 kolom awal\n",
        "\n",
        "print(\"Pemecahan 2\")\n",
        "print(x2[:, 0], \"\\n\")     # mencetak kolom ke-0\n",
        "\n",
        "print(\"Pemecahan 3\")\n",
        "print(x2[0, :])           # mencetak baris ke-0"
      ],
      "metadata": {
        "colab": {
          "base_uri": "https://localhost:8080/"
        },
        "id": "ay9EUfL1PVaI",
        "outputId": "98fbbb82-14aa-4cfe-a843-73962273eb73"
      },
      "execution_count": 245,
      "outputs": [
        {
          "output_type": "stream",
          "name": "stdout",
          "text": [
            "Matriks x2\n",
            "[[3 5 2 4]\n",
            " [7 6 8 8]\n",
            " [1 6 7 7]] \n",
            "\n",
            "Pemecahan 1\n",
            "[[3 5 2]\n",
            " [7 6 8]] \n",
            "\n",
            "Pemecahan 2\n",
            "[3 7 1] \n",
            "\n",
            "Pemecahan 3\n",
            "[3 5 2 4]\n"
          ]
        }
      ]
    },
    {
      "cell_type": "code",
      "source": [
        "# Menggabungkan array\n",
        "x = np.array([1, 2, 3])\n",
        "y = np.array([6, 7, 8])\n",
        "\n",
        "# Cara 1\n",
        "result1 = np.concatenate([x, y])\n",
        "print(result1)  # 1 dimensi\n",
        "\n",
        "# Cara 2\n",
        "result2 = np.array([x, [4, 5, 6]])\n",
        "print(result2)  # 2 dimensi"
      ],
      "metadata": {
        "colab": {
          "base_uri": "https://localhost:8080/"
        },
        "id": "8YAtmqp5RW-S",
        "outputId": "cdb79131-136f-47bb-c943-fcc8d5d4c48c"
      },
      "execution_count": 246,
      "outputs": [
        {
          "output_type": "stream",
          "name": "stdout",
          "text": [
            "[1 2 3 6 7 8]\n",
            "[[1 2 3]\n",
            " [4 5 6]]\n"
          ]
        }
      ]
    },
    {
      "cell_type": "code",
      "source": [
        "# Pemecahan array\n",
        "x = [1, 2, 3, 99, 99, 3, 2, 1]\n",
        "\n",
        "x1, x2, x3 = np.split(x, [3, 5])    # pemecahan dilakukan di indeks 3 dan 5.\n",
        "print(x1, x2, x3)\n",
        "print(x3)"
      ],
      "metadata": {
        "colab": {
          "base_uri": "https://localhost:8080/"
        },
        "id": "fWhoRQ1fSTR_",
        "outputId": "a6875ab5-e7c7-441e-d5b0-a4fb7e864c57"
      },
      "execution_count": 247,
      "outputs": [
        {
          "output_type": "stream",
          "name": "stdout",
          "text": [
            "[1 2 3] [99 99] [3 2 1]\n",
            "[3 2 1]\n"
          ]
        }
      ]
    },
    {
      "cell_type": "code",
      "source": [
        "# Pemecahan array\n",
        "grid = np.arange(16).reshape((4, 4))    # dimensi 4x4 sebanyak 16 angka (0-15)\n",
        "atas, bawah = np.vsplit(grid, [2])      # vertical split menjadi 2\n",
        "\n",
        "print(\"Matriks dimensi 4 x 4\")\n",
        "print(grid, \"\\n\")\n",
        "\n",
        "print(\"Vertical split atas\")\n",
        "print(atas, \"\\n\")\n",
        "\n",
        "print(\"Vertical split bawah\")\n",
        "print(bawah)"
      ],
      "metadata": {
        "colab": {
          "base_uri": "https://localhost:8080/"
        },
        "id": "aWldgsPRT2ci",
        "outputId": "d33f6d09-f08b-420d-ffbf-4d357c883f9a"
      },
      "execution_count": 248,
      "outputs": [
        {
          "output_type": "stream",
          "name": "stdout",
          "text": [
            "Matriks dimensi 4 x 4\n",
            "[[ 0  1  2  3]\n",
            " [ 4  5  6  7]\n",
            " [ 8  9 10 11]\n",
            " [12 13 14 15]] \n",
            "\n",
            "Vertical split atas\n",
            "[[0 1 2 3]\n",
            " [4 5 6 7]] \n",
            "\n",
            "Vertical split bawah\n",
            "[[ 8  9 10 11]\n",
            " [12 13 14 15]]\n"
          ]
        }
      ]
    },
    {
      "cell_type": "code",
      "source": [
        "# Pemecahan array\n",
        "grid = np.arange(16).reshape((4, 4))    # dimensi 4x4 sebanyak 16 angka (0-15)\n",
        "kiri, kanan = np.hsplit(grid, [2])      # vertical split menjadi 2\n",
        "\n",
        "print(\"Matriks dimensi 4 x 4\")\n",
        "print(grid, \"\\n\")\n",
        "\n",
        "print(\"Horizontal split kiri\")\n",
        "print(kiri, \"\\n\")\n",
        "\n",
        "print(\"Horizontal split kanan\")\n",
        "print(kanan)"
      ],
      "metadata": {
        "colab": {
          "base_uri": "https://localhost:8080/"
        },
        "id": "CQz272s4VBL3",
        "outputId": "17ce9cce-ea0a-4867-807f-bc369bdbe41e"
      },
      "execution_count": 249,
      "outputs": [
        {
          "output_type": "stream",
          "name": "stdout",
          "text": [
            "Matriks dimensi 4 x 4\n",
            "[[ 0  1  2  3]\n",
            " [ 4  5  6  7]\n",
            " [ 8  9 10 11]\n",
            " [12 13 14 15]] \n",
            "\n",
            "Horizontal split kiri\n",
            "[[ 0  1]\n",
            " [ 4  5]\n",
            " [ 8  9]\n",
            " [12 13]] \n",
            "\n",
            "Horizontal split kanan\n",
            "[[ 2  3]\n",
            " [ 6  7]\n",
            " [10 11]\n",
            " [14 15]]\n"
          ]
        }
      ]
    }
  ]
}